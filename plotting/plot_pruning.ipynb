import matplotlib.pyplot as plt
import seaborn as sns
sns.set_style('white')

#specify the log loss limit - 10 or 300
log_loss_limit = 300

file1 = '../MNIST_pruning/No-WN/e-' + str(log_loss_limit) + '/pruning.txt'
file2 = '../MNIST_pruning/Exp-WN/e-' + str(log_loss_limit) + '/pruning.txt'
file3 = '../MNIST_pruning/Standard-WN/e-' + str(log_loss_limit) + '/pruning.txt'

test_acc_1 = []
with open(file1, 'r') as f:
    while(True):
        t = f.readline()
        if t=='':
            break
        t = t.strip('\n')
        test_acc_1.append(float(t))

test_acc_2 = []
with open(file2, 'r') as f:
    while (True):
        t = f.readline()
        if t == '':
            break
        t = t.strip('\n')
        test_acc_2.append(float(t))

test_acc_3 = []
with open(file3, 'r') as f:
    while (True):
        t = f.readline()
        if t == '':
            break
        t = t.strip('\n')
        test_acc_3.append(float(t))

cutoffs = [0, 5, 10, 15, 20, 25, 30, 35, 40, 45, 50, 55, 60, 65, 70, 75, 80, 85, 90, 95]

plt.plot(cutoffs, test_acc_1, label='Unnorm', linewidth=3)
plt.plot(cutoffs, test_acc_2, label='EWN', linewidth=3)
plt.plot(cutoffs, test_acc_3, label='SWN', linewidth=3)
plt.xlabel('Percentage of neurons pruned', fontsize=18)
plt.ylabel('Test Accuracy', fontsize=18)
plt.legend(prop={'size':14})
plt.locator_params(axis='y', nbins=6)
plt.locator_params(axis='x', nbins=6)
plt.xticks(fontsize=14)
plt.yticks(fontsize=14)
plt.tight_layout()
plt.show()