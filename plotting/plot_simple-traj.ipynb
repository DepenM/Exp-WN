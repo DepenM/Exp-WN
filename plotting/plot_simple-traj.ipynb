import numpy as np
import matplotlib.pyplot as plt
import seaborn as sns
sns.set_style('white')

dir1 = '../simple-traj/Exp-WN'
dir2 = '../simple-traj/No-WN'
trajs = 5
line_width = 2
font_size = 18

for i in range(trajs):
    name = dir1 + '/traj_' + str(i) + '.npz'
    traj = np.load(name)['trajectory']
    if i==0:
        plt.plot(traj[0], traj[1], ls='-', c='blue', linewidth=line_width, label='EWN')
    else:
        plt.plot(traj[0], traj[1], ls='-', c='blue', linewidth=line_width)

for i in range(trajs):
    name = dir2 + '/traj_' + str(i) + '.npz'
    traj = np.load(name)['trajectory']
    if i==0:
        plt.plot(traj[0], traj[1], ls='--', c='blue', linewidth=line_width, label='Unnorm')
    else:
        plt.plot(traj[0], traj[1], ls='--', c='blue', linewidth=line_width)

plt.xlabel(r'$w_1$', fontsize=font_size)
plt.ylabel(r'$w_2$', fontsize = font_size)
plt.xticks(fontsize=14)
plt.yticks(fontsize=14)
plt.locator_params(axis='y', nbins=6)
plt.locator_params(axis='x', nbins=6)
plt.legend(prop = {'size': 14})
plt.tight_layout()
plt.show()