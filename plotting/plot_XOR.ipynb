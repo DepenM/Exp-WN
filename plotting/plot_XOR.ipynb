import numpy as np
import matplotlib.pyplot as plt
import seaborn as sns
sns.set_style('white')

#specify either 'exp-WN', 'standard-WN' or 'no-WN'
norm_type = 'standard-WN'
if norm_type=='exp-WN':
    dir = '../XOR/Exp-WN'
elif norm_type=='standard-WN':
    dir = '../XOR/Standard-WN'
else:
    dir = '../XOR/No-WN'

indices = 20

for i in range(indices):
    name = dir + '/w_norm_' + str(i) + '.npz'
    norm = np.load(name)['w_norm']
    plt.plot(np.arange(norm.shape[0]), norm, linewidth=3, label=r'$||w_' + str(i) + '||$')

plt.xlabel('Steps', fontsize = 18)
plt.ylabel(r'$||w_u||$', fontsize = 18)
plt.xticks(fontsize=14)
plt.yticks(fontsize=14)
plt.locator_params(axis='y', nbins=4)
plt.locator_params(axis='x', nbins=4)
plt.tight_layout()
plt.show()