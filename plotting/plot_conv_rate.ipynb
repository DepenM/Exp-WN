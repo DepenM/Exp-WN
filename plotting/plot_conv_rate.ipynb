import matplotlib.pyplot as plt
import numpy as np
import seaborn as sns
sns.set_style('white')

font_size = 18
line_width = 3

#specify one of 'exp-WN', 'standard-WN' or 'no-WN'
norm_type = 'no-WN'
if norm_type == 'exp-WN':
    prefix = '../Conv_rate/Exp-WN'
elif norm_type == 'standard-WN':
    prefix = '../Conv_rate/Standard-WN'
else:
    prefix = '../Conv_rate/No-WN'
layers = [1, 2, 3, 4]

for l in layers:
    fin_folder = prefix + '/layer_' + str(l)
    file = fin_folder + '/train_loss.txt'
    with open(file, 'r') as f:
        arr1 = np.array([float(x) for x in f.readlines()])
    plt.plot(np.arange(len(arr1)), arr1, label = str(l) + ' layer', linewidth = line_width)
plt.xlabel('Steps', fontsize = font_size)
plt.ylabel('Train Loss', fontsize = font_size)
plt.locator_params(axis='y', nbins=5)
plt.locator_params(axis='x', nbins=5)
plt.xticks(fontsize=14)
plt.yticks(fontsize=14)
plt.legend(prop={'size': 14})
plt.tight_layout()
plt.show()